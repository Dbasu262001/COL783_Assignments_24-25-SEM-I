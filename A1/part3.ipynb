{
 "cells": [
  {
   "cell_type": "code",
   "execution_count": 231,
   "metadata": {},
   "outputs": [],
   "source": [
    "import numpy as np\n",
    "import pandas as pd\n",
    "import cv2\n",
    "import os\n",
    "\n",
    "image3 = cv2.imread(\"data/memorial.hdr\",cv2.IMREAD_ANYDEPTH)\n"
   ]
  },
  {
   "cell_type": "code",
   "execution_count": 232,
   "metadata": {},
   "outputs": [
    {
     "data": {
      "text/plain": [
       "True"
      ]
     },
     "execution_count": 232,
     "metadata": {},
     "output_type": "execute_result"
    }
   ],
   "source": [
    "weights= [0.3, 0.58, 0.12]\n",
    "\n",
    "gray_image3 = np.dot(image3,weights) #converting to gray scale image\n",
    "gray_image3_show = 255*(gray_image3 - np.min(gray_image3))/(np.max(gray_image3)-np.min(gray_image3))\n",
    "cv2.imwrite('output_images/Q3/Q3_a_original.png', gray_image3_show.astype(np.uint8),[cv2.IMWRITE_PNG_COMPRESSION, 0])"
   ]
  },
  {
   "cell_type": "code",
   "execution_count": 233,
   "metadata": {},
   "outputs": [],
   "source": [
    "######Filters \n",
    "def gaussian_kernel_1d(size:int,sigma:float)->np.array:\n",
    "    distance = np.square(np.linspace(-(size//2),size//2,size))\n",
    "    kernel = np.exp(-0.5 * distance / np.square(sigma) )\n",
    "    return kernel/np.sum(kernel)\n",
    "###Convolution 1D\n",
    "def convolve_1D(A:np.array,kernel:np.array)->np.array:\n",
    "    C=[]\n",
    "    for row in A:\n",
    "        c_rows = np.convolve(row,kernel,mode='same')\n",
    "        C.append(c_rows)\n",
    "    return np.array(C)\n",
    "def full_convolution(A:np.array,kernel:np.array)->np.array:\n",
    "    A1 = convolve_1D(A,kernel).T\n",
    "    result = convolve_1D(A1,kernel).T\n",
    "    return result"
   ]
  },
  {
   "cell_type": "code",
   "execution_count": 234,
   "metadata": {},
   "outputs": [],
   "source": [
    "#Gaussian filter on image\n",
    "def gaussian_filter(image:np.array,sigma:int)->np.array:\n",
    "    size=2*sigma+1\n",
    "    kernel = gaussian_kernel_1d(size=size,sigma=sigma)\n",
    "    filtered_image = full_convolution(image,kernel=kernel)\n",
    "    return filtered_image\n"
   ]
  },
  {
   "cell_type": "code",
   "execution_count": 235,
   "metadata": {},
   "outputs": [
    {
     "data": {
      "text/plain": [
       "True"
      ]
     },
     "execution_count": 235,
     "metadata": {},
     "output_type": "execute_result"
    }
   ],
   "source": [
    "#********** Q3 A *******************\n",
    "#image with sigma 2\n",
    "gaussian_sigma2 = gaussian_filter(gray_image3,2)\n",
    "gaussian_sigma2 = (255*(gaussian_sigma2 - np.min(gaussian_sigma2))/(np.max(gaussian_sigma2)-np.min(gaussian_sigma2))).astype(np.uint8)\n",
    "#####save image\n",
    "cv2.imwrite('output_images/Q3/Q3_a_sigma_2.png', gaussian_sigma2,[cv2.IMWRITE_PNG_COMPRESSION, 0])\n"
   ]
  },
  {
   "cell_type": "code",
   "execution_count": 236,
   "metadata": {},
   "outputs": [
    {
     "data": {
      "text/plain": [
       "True"
      ]
     },
     "execution_count": 236,
     "metadata": {},
     "output_type": "execute_result"
    }
   ],
   "source": [
    "gaussian_sigma8 = gaussian_sigma2 = gaussian_filter(gray_image3,8)\n",
    "gaussian_sigma8 = (255*(gaussian_sigma8 - np.min(gaussian_sigma8))/(np.max(gaussian_sigma8)-np.min(gaussian_sigma8))).astype(np.uint8)\n",
    "#####save image\n",
    "cv2.imwrite('output_images/Q3/Q3_a_sigma_8.png', gaussian_sigma8,[cv2.IMWRITE_PNG_COMPRESSION, 0])\n",
    "#******************************************"
   ]
  },
  {
   "cell_type": "code",
   "execution_count": 237,
   "metadata": {},
   "outputs": [
    {
     "data": {
      "text/plain": [
       "True"
      ]
     },
     "execution_count": 237,
     "metadata": {},
     "output_type": "execute_result"
    }
   ],
   "source": [
    "#***********Q3 B****************************\n",
    "f_bar = np.log(gray_image3) # Log image \n",
    "f_bar_show = (255*(f_bar - np.min(f_bar)) / (np.max(f_bar) - np.min(f_bar)) ).astype(np.uint8)\n",
    "cv2.imwrite('output_images/Q3/Q3_b_f_bar_log.png', f_bar_show,[cv2.IMWRITE_PNG_COMPRESSION, 0])\n",
    "# ************"
   ]
  },
  {
   "cell_type": "code",
   "execution_count": 238,
   "metadata": {},
   "outputs": [
    {
     "data": {
      "text/plain": [
       "True"
      ]
     },
     "execution_count": 238,
     "metadata": {},
     "output_type": "execute_result"
    }
   ],
   "source": [
    "g_bar = gaussian_filter(f_bar,2) # applying low pass filter on log image\n",
    "g_bar_show =  (255*(g_bar - np.min(g_bar) )/ (np.max(g_bar) - np.min(g_bar)) ).astype(np.uint8)\n",
    "cv2.imwrite('output_images/Q3/Q3_b_g_bar_low.png', g_bar_show,[cv2.IMWRITE_PNG_COMPRESSION, 0])\n",
    "# ************"
   ]
  },
  {
   "cell_type": "code",
   "execution_count": 239,
   "metadata": {},
   "outputs": [
    {
     "data": {
      "text/plain": [
       "True"
      ]
     },
     "execution_count": 239,
     "metadata": {},
     "output_type": "execute_result"
    }
   ],
   "source": [
    "#contrast reduction  (lowest value to 1 scaling)\n",
    "g_bar_reduced = g_bar/np.min(g_bar)\n",
    "g_bar_reduced_show = (255*(g_bar_reduced - np.min(g_bar_reduced) )/ (np.max(g_bar_reduced) - np.min(g_bar_reduced)) ).astype(np.uint8)\n",
    "cv2.imwrite('output_images/Q3/Q3_b_g_bar_low_reduced.png', g_bar_show,[cv2.IMWRITE_PNG_COMPRESSION, 0])\n",
    "\n"
   ]
  },
  {
   "cell_type": "code",
   "execution_count": 240,
   "metadata": {},
   "outputs": [
    {
     "data": {
      "text/plain": [
       "True"
      ]
     },
     "execution_count": 240,
     "metadata": {},
     "output_type": "execute_result"
    }
   ],
   "source": [
    "h_bar = f_bar - g_bar # applying high pass filter on log image\n",
    "h_bar_show = (255* (h_bar - np.min(h_bar)) / (np.max(h_bar) - np.min(h_bar))  ).astype(np.uint8)\n",
    "cv2.imwrite(\"output_images/Q3/Q3_b_h_bar_high.png\",h_bar_show,[cv2.IMWRITE_PNG_COMPRESSION,0])\n",
    "# ************"
   ]
  },
  {
   "cell_type": "code",
   "execution_count": 241,
   "metadata": {},
   "outputs": [
    {
     "data": {
      "text/plain": [
       "True"
      ]
     },
     "execution_count": 241,
     "metadata": {},
     "output_type": "execute_result"
    }
   ],
   "source": [
    "recomposed_image = np.exp(h_bar + g_bar_reduced)\n",
    "recomposed_image = (255*(recomposed_image - np.min(recomposed_image) )/ (np.max(recomposed_image) - np.min(recomposed_image) )).astype(np.uint8)\n",
    "cv2.imwrite(\"output_images/Q3/Q3_b_recomposed.png\",recomposed_image,[cv2.IMWRITE_PNG_COMPRESSION,0])"
   ]
  },
  {
   "cell_type": "code",
   "execution_count": 242,
   "metadata": {},
   "outputs": [],
   "source": [
    "#**************************************\n",
    "#*********** Q3 C ************\n",
    "def gaussian_kernel_2D(size:int,sigma)->np.array:\n",
    "    if(size % 2 ==0):\n",
    "        raise(\"Enter odd value\")\n",
    "    x, y = np.meshgrid(np.arange(-(size//2), (size//2) + 1), np.arange(-(size//2), (size//2) + 1))\n",
    "    kernel = np.exp( -0.5* (np.square(x) + np.square(y))/(np.square(sigma)))\n",
    "    gaussian_kernel = kernel/np.sum(kernel)\n",
    "    return gaussian_kernel\n",
    "\n",
    "    \n",
    "def bilater_filter(image:np.array,sigma_s,sigma_r):\n",
    "    size = 2*sigma_s +1\n",
    "    gauss_spatial = gaussian_kernel_2D(size=size,sigma=sigma_s)\n",
    "    padding_size = size//2\n",
    "    padded_image = np.pad(image,padding_size)\n",
    "    m,n = image.shape[0],image.shape[1]\n",
    "    for i in range(m):\n",
    "        for j in range(n):\n",
    "            f_q = padded_image[i:i+size,j:j+size]\n",
    "            fp_fq = padded_image[i:i+size,j:j+size] - image[i,j]\n",
    "            gauss_range = np.exp(-0.5*np.square(fp_fq)/np.square(sigma_r))\n",
    "            gaussian_range = gauss_range/np.sum(gauss_range)\n",
    "            image[i,j] =np.sum(gauss_spatial*f_q*gaussian_range)\n",
    "    return image \n",
    "\n",
    "\n",
    "    "
   ]
  },
  {
   "cell_type": "code",
   "execution_count": 243,
   "metadata": {},
   "outputs": [],
   "source": [
    "sigma_pairs=[[2,2],[2,8],[2,8]]\n",
    "for i in range(3):\n",
    "    sig_s = sigma_pairs[i][0]\n",
    "    sig_r = sigma_pairs[i][1]\n",
    "    bilat_im = bilater_filter(gray_image3,sigma_s=sig_s,sigma_r=sig_r)\n",
    "    bilat_img_scaled = (255*(bilat_im - np.min(bilat_im))/(np.max(bilat_im) - np.min(bilat_im)))\n",
    "    name = str(sig_s) + \"_\"+str(sig_r) +\".png\"\n",
    "    cv2.imwrite(\"output_images/Q3/Q3_c_bilateral_\"+name,bilat_img_scaled,[cv2.IMWRITE_PNG_COMPRESSION,0])"
   ]
  },
  {
   "cell_type": "code",
   "execution_count": 244,
   "metadata": {},
   "outputs": [],
   "source": [
    "# bilater_filtered_image = bilater_filter(gray_image3,2,2)\n",
    "# bilater_filtered_image_show = (255*(bilater_filtered_image-np.min(bilater_filtered_image))/(np.max(bilater_filtered_image) - np.min(bilater_filtered_image))).astype(np.uint8)"
   ]
  },
  {
   "cell_type": "code",
   "execution_count": 245,
   "metadata": {},
   "outputs": [],
   "source": [
    "# cv2.imwrite(\"output_images/Q3/Q3_c_bilateral_2_2.png\",bilater_filtered_image_show,[cv2.IMWRITE_PNG_COMPRESSION,0])"
   ]
  },
  {
   "cell_type": "code",
   "execution_count": null,
   "metadata": {},
   "outputs": [],
   "source": [
    "#***********************************\n",
    "#********** Q3  d********"
   ]
  }
 ],
 "metadata": {
  "kernelspec": {
   "display_name": "Python 3",
   "language": "python",
   "name": "python3"
  },
  "language_info": {
   "codemirror_mode": {
    "name": "ipython",
    "version": 3
   },
   "file_extension": ".py",
   "mimetype": "text/x-python",
   "name": "python",
   "nbconvert_exporter": "python",
   "pygments_lexer": "ipython3",
   "version": "3.10.12"
  }
 },
 "nbformat": 4,
 "nbformat_minor": 2
}
