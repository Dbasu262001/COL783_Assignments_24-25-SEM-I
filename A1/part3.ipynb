{
 "cells": [
  {
   "cell_type": "code",
   "execution_count": 4,
   "metadata": {},
   "outputs": [],
   "source": [
    "import numpy as np\n",
    "import pandas as pd\n",
    "import cv2\n",
    "import os\n",
    "\n",
    "image3 = cv2.imread(\"data/memorial.hdr\",cv2.IMREAD_ANYDEPTH)\n"
   ]
  },
  {
   "cell_type": "code",
   "execution_count": 11,
   "metadata": {},
   "outputs": [
    {
     "data": {
      "text/plain": [
       "np.float32(255.00003)"
      ]
     },
     "execution_count": 11,
     "metadata": {},
     "output_type": "execute_result"
    }
   ],
   "source": [
    "gray_image3 = np.mean(image3,axis=2)\n",
    "############*Log image***********8#\n",
    "log_image = np.log(gray_image3)\n",
    "np.min(log_image)\n",
    "log_image_t = (255/(np.max(log_image)-np.min(log_image)))*log_image -(255/(np.max(log_image)-np.min(log_image)))*np.min(log_image)\n"
   ]
  },
  {
   "cell_type": "code",
   "execution_count": 19,
   "metadata": {},
   "outputs": [
    {
     "data": {
      "text/plain": [
       "array([0.15246914, 0.2218413 , 0.25137912, 0.2218413 , 0.15246914])"
      ]
     },
     "execution_count": 19,
     "metadata": {},
     "output_type": "execute_result"
    }
   ],
   "source": [
    "######Filters \n",
    "def gaussian_kernel_1d(size:int,sigma:float):\n",
    "    distance = np.square(np.linspace(-(size//2),size//2,size))\n",
    "    kernel = np.exp(-0.5 * distance / np.square(sigma) )\n",
    "    return kernel/np.sum(kernel)\n",
    "\n",
    "\n",
    "\n",
    "size = 5\n",
    "ax = np.linspace(-(size // 2), size // 2, size)\n",
    "gaussian_kernel_1d(5,2)"
   ]
  }
 ],
 "metadata": {
  "kernelspec": {
   "display_name": "Python 3",
   "language": "python",
   "name": "python3"
  },
  "language_info": {
   "codemirror_mode": {
    "name": "ipython",
    "version": 3
   },
   "file_extension": ".py",
   "mimetype": "text/x-python",
   "name": "python",
   "nbconvert_exporter": "python",
   "pygments_lexer": "ipython3",
   "version": "3.12.4"
  }
 },
 "nbformat": 4,
 "nbformat_minor": 2
}
