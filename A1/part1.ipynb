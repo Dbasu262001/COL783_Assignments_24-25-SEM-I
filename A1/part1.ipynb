{
 "cells": [
  {
   "cell_type": "code",
   "execution_count": 1,
   "metadata": {},
   "outputs": [
    {
     "name": "stdout",
     "output_type": "stream",
     "text": [
      "(100, 100, 3)\n"
     ]
    }
   ],
   "source": [
    "import cv2\n",
    "import pandas as pd\n",
    "import numpy as np\n",
    "import os\n",
    "# function to read image\n",
    "def read_image(filename : str)-> np.array:\n",
    "    return cv2.imread(filename)\n",
    "\n",
    "# converting image to grayscale image\n",
    "def get_graycale(image:np.array):\n",
    "    weights= [0.3, 0.58, 0.12]\n",
    "    gray = np.dot(img[..., :3], weights)\n",
    "    return np.round(gray).astype(np.int16)\n",
    "\n",
    "img = read_image(\"data/cse-logo.png\")\n",
    "print(img.shape)\n"
   ]
  },
  {
   "cell_type": "code",
   "execution_count": 2,
   "metadata": {},
   "outputs": [
    {
     "name": "stdout",
     "output_type": "stream",
     "text": [
      "max_val 255\n",
      "min_val 0\n",
      "gray_image shape :  (100, 100)\n"
     ]
    }
   ],
   "source": [
    "\n",
    "gray_image = get_graycale(img)\n",
    "print(\"max_val\",np.max(gray_image))\n",
    "print(\"min_val\",np.min(gray_image))\n",
    "print(\"gray_image shape : \",gray_image.shape)"
   ]
  },
  {
   "cell_type": "code",
   "execution_count": 3,
   "metadata": {},
   "outputs": [
    {
     "name": "stdout",
     "output_type": "stream",
     "text": [
      "r* =  255\n"
     ]
    }
   ],
   "source": [
    "def calculate_histogram(image:np.array):\n",
    "    array = image.flatten()\n",
    "    histogram = np.array([0]*256)\n",
    "    for i in range(array.shape[0]):\n",
    "        histogram[array[i]]+=1\n",
    "    return histogram\n",
    "histogram =calculate_histogram(gray_image)\n",
    "# print(histogram)\n",
    "r_star =np.argmax(histogram)\n",
    "print(\"r* = \",r_star)"
   ]
  },
  {
   "cell_type": "code",
   "execution_count": 4,
   "metadata": {},
   "outputs": [
    {
     "name": "stdout",
     "output_type": "stream",
     "text": [
      "t =  10\n"
     ]
    }
   ],
   "source": [
    "t=10\n",
    "image_a = np.where(np.abs(gray_image - r_star) <= 10, 1, 0).astype(np.uint8)\n",
    "cv2.imshow('Binary Image', image_a * 255)  # Multiply by 255 to visualize\n",
    "cv2.waitKey(8000)\n",
    "cv2.destroyAllWindows()\n",
    "print(\"t = \",t)\n"
   ]
  },
  {
   "cell_type": "code",
   "execution_count": 5,
   "metadata": {},
   "outputs": [],
   "source": [
    "#************** Q1 B************\n",
    "############################################\n",
    "#Nearest neighbour interpolation\n",
    "def get_rounded(scale_factor:float,val:float)->int:\n",
    "    if(scale_factor < 1):\n",
    "        return int(val/scale_factor)\n",
    "    else:\n",
    "        return int(val*scale_factor)\n",
    "\n",
    "def Nearest_neighbour_interpolation(image:np.array):\n",
    "    image_shape = image.shape\n",
    "    N = int(.25*max(image_shape[0],image_shape[1]))\n",
    "    row_scale = image_shape[0]/N\n",
    "    col_scale = image_shape[1]/N\n",
    "    resized_image = np.zeros((N,N),dtype=np.int16)\n",
    "    for i in range(N):\n",
    "        for j in range(N):\n",
    "            i_old = int(i*row_scale)\n",
    "            j_old = int(j*col_scale)\n",
    "            resized_image[i,j] = image[i_old,j_old]\n",
    "\n",
    "    return resized_image\n",
    "\n"
   ]
  },
  {
   "cell_type": "code",
   "execution_count": 6,
   "metadata": {},
   "outputs": [
    {
     "name": "stdout",
     "output_type": "stream",
     "text": [
      "nn_interpolated_image_shape : (25, 25)\n"
     ]
    }
   ],
   "source": [
    "nni_image =Nearest_neighbour_interpolation(image_a)\n",
    "cv2.imshow('Binary Image', nni_image*255)  \n",
    "cv2.waitKey(4000)\n",
    "cv2.destroyAllWindows()\n",
    "print(\"nn_interpolated_image_shape :\",nni_image.shape)\n"
   ]
  },
  {
   "cell_type": "code",
   "execution_count": 7,
   "metadata": {},
   "outputs": [
    {
     "name": "stdout",
     "output_type": "stream",
     "text": [
      "nn_interpolated_image_shape : (25, 25)\n"
     ]
    }
   ],
   "source": [
    "nni_img = Nearest_neighbour_interpolation(gray_image)\n",
    "cv2.imshow('Gray Image', nni_img)  \n",
    "cv2.waitKey(8000)\n",
    "cv2.destroyAllWindows()\n",
    "print(\"nn_interpolated_image_shape :\",nni_img.shape)\n"
   ]
  },
  {
   "cell_type": "code",
   "execution_count": 8,
   "metadata": {},
   "outputs": [],
   "source": [
    "#******** bilinear interpolation**********\n",
    "def bilinear_interpolation(image:np.array):\n",
    "    image_shape = image.shape\n",
    "    N = int(.25*max(image_shape[0],image_shape[1]))\n",
    "    row_scale = (image_shape[0])/(N)\n",
    "    col_scale = (image_shape[1])/(N)\n",
    "    print(row_scale,col_scale)\n",
    "    resized_image = np.zeros((N,N),dtype=np.int16)\n",
    "\n",
    "    for i in range(N):\n",
    "        for j in range(N):\n",
    "            i_old = i*row_scale\n",
    "            j_old = j*col_scale\n",
    "            x1 = int(np.floor(i_old))\n",
    "            y1 = int(np.floor(j_old))\n",
    "            x2 = min(x1+1,N-1)\n",
    "            y2 = min(y1+1,N-1)\n",
    "            f11 = image[x1,y1]\n",
    "            f12 = image[x1,y2]\n",
    "            f21 = image[x2,y1]\n",
    "            f22 = image[x2,y2]\n",
    "            d_i = i_old - x1\n",
    "            d_j = j_old -y1\n",
    "            linear1= (1-d_j)*f11 + d_j*f12\n",
    "            linear2 = (1-d_j)*f21 +d_j*f22            \n",
    "            resized_image[i,j] = (1-d_i)*linear1 + d_i*linear2\n",
    "    return resized_image\n",
    "\n",
    "    "
   ]
  },
  {
   "cell_type": "code",
   "execution_count": 9,
   "metadata": {},
   "outputs": [
    {
     "name": "stdout",
     "output_type": "stream",
     "text": [
      "4.0 4.0\n",
      "nn_interpolated_image_shape : (25, 25)\n"
     ]
    }
   ],
   "source": [
    "bi_img = bilinear_interpolation(gray_image)\n",
    "cv2.imshow('Binary Image', bi_img*255)  \n",
    "cv2.waitKey(8000)\n",
    "cv2.destroyAllWindows()\n",
    "print(\"nn_interpolated_image_shape :\",nni_image.shape)"
   ]
  },
  {
   "cell_type": "code",
   "execution_count": 10,
   "metadata": {},
   "outputs": [],
   "source": [
    "#**************Q1 C *******************\n",
    "############################################"
   ]
  }
 ],
 "metadata": {
  "kernelspec": {
   "display_name": "Python 3",
   "language": "python",
   "name": "python3"
  },
  "language_info": {
   "codemirror_mode": {
    "name": "ipython",
    "version": 3
   },
   "file_extension": ".py",
   "mimetype": "text/x-python",
   "name": "python",
   "nbconvert_exporter": "python",
   "pygments_lexer": "ipython3",
   "version": "3.10.12"
  }
 },
 "nbformat": 4,
 "nbformat_minor": 2
}
