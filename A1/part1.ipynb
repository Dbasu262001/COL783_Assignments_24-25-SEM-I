{
 "cells": [
  {
   "cell_type": "code",
   "execution_count": 274,
   "metadata": {},
   "outputs": [
    {
     "data": {
      "text/plain": [
       "(100, 100, 3)"
      ]
     },
     "execution_count": 274,
     "metadata": {},
     "output_type": "execute_result"
    }
   ],
   "source": [
    "import cv2\n",
    "import pandas as pd\n",
    "import numpy as np\n",
    "import os\n",
    "# function to read image\n",
    "def read_image(filename : str)-> np.array:\n",
    "    return cv2.imread(filename)\n",
    "\n",
    "# converting image to grayscale image\n",
    "def get_graycale(image:np.array):\n",
    "    weights= [0.3, 0.51, 0.11]\n",
    "    gray = np.dot(img[..., :3], weights)\n",
    "    return np.round(gray).astype(np.int16)\n",
    "\n",
    "img = read_image(\"data/cse-logo.png\")\n",
    "img.shape"
   ]
  },
  {
   "cell_type": "code",
   "execution_count": 275,
   "metadata": {},
   "outputs": [
    {
     "data": {
      "text/plain": [
       "250"
      ]
     },
     "execution_count": 275,
     "metadata": {},
     "output_type": "execute_result"
    }
   ],
   "source": [
    "my_image = cv2.imread(\"data/eagle.jpeg\", cv2.IMREAD_COLOR)\n",
    "my_image = np.dot(my_image[..., :3], [0.3, 0.59, 0.11])\n",
    "my_image = np.round(my_image).astype(np.uint8)\n",
    "M = max(my_image.shape[0],my_image.shape[1])\n",
    "Scaling_factor = int(.25*M)\n",
    "Scaling_factor"
   ]
  },
  {
   "cell_type": "code",
   "execution_count": 276,
   "metadata": {},
   "outputs": [],
   "source": [
    "\n",
    "gray_image = get_graycale(img)\n"
   ]
  },
  {
   "cell_type": "code",
   "execution_count": 277,
   "metadata": {},
   "outputs": [
    {
     "name": "stdout",
     "output_type": "stream",
     "text": [
      "r* =  255\n"
     ]
    }
   ],
   "source": [
    "def calculate_histogram(image:np.array):\n",
    "    array = image.flatten()\n",
    "    histogram = np.array([0]*256)\n",
    "    for i in range(array.shape[0]):\n",
    "        histogram[array[i]]+=1\n",
    "    return histogram\n",
    "histogram =calculate_histogram(gray_image)\n",
    "# print(histogram)\n",
    "r_star =np.argmax(histogram)\n",
    "print(\"r* = \",r_star)"
   ]
  },
  {
   "cell_type": "code",
   "execution_count": 278,
   "metadata": {},
   "outputs": [
    {
     "name": "stdout",
     "output_type": "stream",
     "text": [
      "t =  10\n"
     ]
    }
   ],
   "source": [
    "t=10\n",
    "image_a = np.where(np.abs(gray_image - r_star) <= 10, 1, 0).astype(np.uint8)\n",
    "cv2.imwrite(\"output_images/Q1/Q1_image_a.png\",image_a*255,[cv2.IMWRITE_PNG_COMPRESSION, 0])\n",
    "print(\"t = \",t)\n"
   ]
  },
  {
   "cell_type": "code",
   "execution_count": 279,
   "metadata": {},
   "outputs": [],
   "source": [
    "# cv2.imshow('Q1(a) sep background & foreground', image_a*255)\n",
    "# cv2.waitKey(1500)\n",
    "# cv2.destroyAllWindows()"
   ]
  },
  {
   "cell_type": "code",
   "execution_count": 280,
   "metadata": {},
   "outputs": [],
   "source": [
    "#************** Q1 B************\n",
    "############################################\n",
    "#Nearest neighbour interpolation\n",
    "def get_rounded(scale_factor:float,val:float)->int:\n",
    "    if(scale_factor < 1):\n",
    "        return int(val/scale_factor)\n",
    "    else:\n",
    "        return int(val*scale_factor)\n",
    "\n",
    "def Nearest_neighbour_interpolation(image:np.array,size:int):\n",
    "    image_shape = image.shape\n",
    "    N = int(.25*size)\n",
    "    row_scale = image_shape[0]/N\n",
    "    col_scale = image_shape[1]/N\n",
    "    resized_image = np.zeros((N,N),dtype=np.int16)\n",
    "    for i in range(N):\n",
    "        for j in range(N):\n",
    "            i_old = int(i*row_scale)\n",
    "            j_old = int(j*col_scale)\n",
    "            resized_image[i,j] = image[i_old,j_old]\n",
    "\n",
    "    return resized_image\n",
    "\n"
   ]
  },
  {
   "cell_type": "code",
   "execution_count": 281,
   "metadata": {},
   "outputs": [
    {
     "name": "stdout",
     "output_type": "stream",
     "text": [
      "(250, 250)\n"
     ]
    }
   ],
   "source": [
    "nni_image =Nearest_neighbour_interpolation(image_a,M)\n",
    "cv2.imwrite(\"output_images/Q1/Q1_nearest_neigh_image_a.png\",nni_image*255,[cv2.IMWRITE_PNG_COMPRESSION, 0])\n",
    "# cv2.imshow('nearest_neigh_image_a', nni_image*255)  \n",
    "# cv2.waitKey(1500)\n",
    "# cv2.destroyAllWindows()\n",
    "print(nni_image.shape)"
   ]
  },
  {
   "cell_type": "code",
   "execution_count": 282,
   "metadata": {},
   "outputs": [
    {
     "data": {
      "text/plain": [
       "True"
      ]
     },
     "execution_count": 282,
     "metadata": {},
     "output_type": "execute_result"
    }
   ],
   "source": [
    "nni_img = Nearest_neighbour_interpolation(gray_image,M)\n",
    "cv2.imwrite(\"output_images/Q1/Q1_nearest_neigh_source.png\",nni_img,[cv2.IMWRITE_PNG_COMPRESSION, 0])\n",
    "# cv2.imshow('nearest_neigh_image_source', nni_img)  \n",
    "# cv2.waitKey(1500)\n",
    "# cv2.destroyAllWindows()"
   ]
  },
  {
   "cell_type": "code",
   "execution_count": 283,
   "metadata": {},
   "outputs": [],
   "source": [
    "#******** bilinear interpolation**********\n",
    "\n",
    "def bilinear_interpolation(image: np.array, size: tuple):\n",
    "    old_height, old_width = image.shape\n",
    "    N = int(0.25*size)\n",
    "    row_scale = (old_height) / N\n",
    "    col_scale = (old_width) / N\n",
    "    \n",
    "    resized_image = np.zeros((N, N), dtype=np.float32)\n",
    "\n",
    "    for i in range(N):\n",
    "        for j in range(N):\n",
    "            i_old = i * row_scale\n",
    "            j_old = j * col_scale\n",
    "            \n",
    "            x1 = int(np.floor(i_old))\n",
    "            y1 = int(np.floor(j_old))\n",
    "            x2 = min(x1 + 1, old_height - 1)\n",
    "            y2 = min(y1 + 1, old_width - 1)\n",
    "            \n",
    "            f11 = image[x1, y1]\n",
    "            f12 = image[x1, y2]\n",
    "            f21 = image[x2, y1]\n",
    "            f22 = image[x2, y2]\n",
    "            \n",
    "            d_i = i_old - x1\n",
    "            d_j = j_old - y1\n",
    "            \n",
    "            linear1 = (1 - d_j) * f11 + d_j * f12\n",
    "            linear2 = (1 - d_j) * f21 + d_j * f22\n",
    "            \n",
    "            resized_image[i, j] = (1 - d_i) * linear1 + d_i * linear2\n",
    "    \n",
    "    return resized_image\n",
    "\n",
    "\n",
    "    "
   ]
  },
  {
   "cell_type": "code",
   "execution_count": 284,
   "metadata": {},
   "outputs": [
    {
     "data": {
      "text/plain": [
       "255.0"
      ]
     },
     "execution_count": 284,
     "metadata": {},
     "output_type": "execute_result"
    }
   ],
   "source": [
    "bi_img_src = bilinear_interpolation(gray_image,M)\n",
    "cv2.imwrite(\"output_images/Q1/Q1_bilinear_source.png\",bi_img_src,[cv2.IMWRITE_PNG_COMPRESSION, 0])\n",
    "# cv2.imshow('Bilinear on source', bi_img_src*255)  \n",
    "# cv2.waitKey(1000)\n",
    "# cv2.destroyAllWindows()\n",
    "np.max(bi_img_src)"
   ]
  },
  {
   "cell_type": "code",
   "execution_count": 285,
   "metadata": {},
   "outputs": [
    {
     "data": {
      "text/plain": [
       "True"
      ]
     },
     "execution_count": 285,
     "metadata": {},
     "output_type": "execute_result"
    }
   ],
   "source": [
    "bi_img_a = bilinear_interpolation(image_a,M)\n",
    "cv2.imwrite(\"output_images/Q1/Q1_bilinear_image_a.png\",bi_img_a*255,[cv2.IMWRITE_PNG_COMPRESSION, 0])\n",
    "# cv2.imshow('Bilinear on image a', bi_img_src*255)  \n",
    "# cv2.waitKey(1000)\n",
    "# cv2.destroyAllWindows()\n"
   ]
  },
  {
   "cell_type": "code",
   "execution_count": 286,
   "metadata": {},
   "outputs": [],
   "source": [
    "#**************Q1 C *******************\n",
    "############################################\n",
    "logo = bi_img_a\n",
    "M,N = my_image.shape[0],my_image.shape[1]\n",
    "logo_size = bi_img_a.shape[0]\n",
    "start_i,start_j = M-logo_size,0\n",
    "for i in range(logo_size):\n",
    "    for j in range(logo_size):\n",
    "        x = start_i+i\n",
    "        y = start_j +j\n",
    "        p = (1-logo[i,j])*255\n",
    "        my_image[x,y] = max(p,my_image[x,y])\n",
    "\n",
    "\n"
   ]
  },
  {
   "cell_type": "code",
   "execution_count": 287,
   "metadata": {},
   "outputs": [
    {
     "data": {
      "text/plain": [
       "True"
      ]
     },
     "execution_count": 287,
     "metadata": {},
     "output_type": "execute_result"
    }
   ],
   "source": [
    "cv2.imwrite(\"output_images/Q1/Q1_logo_paste_a.png\",my_image,[cv2.IMWRITE_PNG_COMPRESSION, 0])\n"
   ]
  }
 ],
 "metadata": {
  "kernelspec": {
   "display_name": "Python 3",
   "language": "python",
   "name": "python3"
  },
  "language_info": {
   "codemirror_mode": {
    "name": "ipython",
    "version": 3
   },
   "file_extension": ".py",
   "mimetype": "text/x-python",
   "name": "python",
   "nbconvert_exporter": "python",
   "pygments_lexer": "ipython3",
   "version": "3.10.12"
  }
 },
 "nbformat": 4,
 "nbformat_minor": 2
}
