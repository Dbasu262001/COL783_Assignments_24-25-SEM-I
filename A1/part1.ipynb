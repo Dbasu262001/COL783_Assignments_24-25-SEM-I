{
 "cells": [
  {
   "cell_type": "code",
   "execution_count": 11,
   "metadata": {},
   "outputs": [
    {
     "name": "stdout",
     "output_type": "stream",
     "text": [
      "(100, 100, 3)\n"
     ]
    }
   ],
   "source": [
    "import cv2\n",
    "import pandas as pd\n",
    "import numpy as np\n",
    "import os\n",
    "# function to read image\n",
    "def read_image(filename : str)-> np.array:\n",
    "    return cv2.imread(filename)\n",
    "\n",
    "# converting image to grayscale image\n",
    "def get_graycale(image:np.array):\n",
    "    weights= [0.3, 0.58, 0.12]\n",
    "    gray = np.dot(img[..., :3], weights)\n",
    "    return np.round(gray).astype(np.int16)\n",
    "\n",
    "img = read_image(\"data/cse-logo.png\")\n",
    "print(img.shape)\n"
   ]
  },
  {
   "cell_type": "code",
   "execution_count": 12,
   "metadata": {},
   "outputs": [
    {
     "name": "stdout",
     "output_type": "stream",
     "text": [
      "max_val 255\n",
      "min_val 0\n",
      "gray_image shape :  (100, 100)\n"
     ]
    }
   ],
   "source": [
    "\n",
    "gray_image = get_graycale(img)\n",
    "print(\"max_val\",np.max(gray_image))\n",
    "print(\"min_val\",np.min(gray_image))\n",
    "print(\"gray_image shape : \",gray_image.shape)"
   ]
  },
  {
   "cell_type": "code",
   "execution_count": 14,
   "metadata": {},
   "outputs": [
    {
     "name": "stdout",
     "output_type": "stream",
     "text": [
      "r* =  255\n"
     ]
    }
   ],
   "source": [
    "def calculate_histogram(image:np.array):\n",
    "    array = image.flatten()\n",
    "    histogram = np.array([0]*256)\n",
    "    for x in array:\n",
    "        histogram[x]+=1\n",
    "    return histogram\n",
    "histogram =calculate_histogram(gray_image)\n",
    "# print(histogram)\n",
    "r_star =np.argmax(histogram)\n",
    "print(\"r* = \",r_star)"
   ]
  },
  {
   "cell_type": "code",
   "execution_count": 10,
   "metadata": {},
   "outputs": [
    {
     "name": "stdout",
     "output_type": "stream",
     "text": [
      "t =  10\n"
     ]
    }
   ],
   "source": [
    "t=10\n",
    "a = np.where(np.abs(gray_image - r_star) <= 10, 1, 0).astype(np.uint8)\n",
    "cv2.imshow('Binary Image', a * 255)  # Multiply by 255 to visualize\n",
    "cv2.waitKey(8000)\n",
    "cv2.destroyAllWindows()\n",
    "print(\"t = \",t)\n"
   ]
  },
  {
   "cell_type": "code",
   "execution_count": 9,
   "metadata": {},
   "outputs": [],
   "source": [
    "#************** Q1 B************\n",
    "#Nearest neighbour interpolation\n",
    "def get_rounded(scale_factor:float,val:float)->int:\n",
    "    if(scale_factor < 1):\n",
    "        return int(val/scale_factor)\n",
    "    else:\n",
    "        return int(val*scale_factor)\n",
    "\n",
    "def Nearest_neighbour_interpolation(image:np.array):\n",
    "    image_shape = image.shape\n",
    "    N = int(.25*max(image_shape[0],image_shape[1]))\n",
    "    row_scale = image_shape[0]/N\n",
    "    col_scale = image_shape[1]/N\n",
    "    resized_image = np.zeros((N,N))\n",
    "    \n",
    "    for i in range(N):\n",
    "        for j in range(N):\n",
    "            i_old = int(i*row_scale)\n",
    "            j_old = int(j*col_scale)\n",
    "            resized_image[i,j] = image[i_old,j_old]\n",
    "\n",
    "    return resized_image\n",
    "\n"
   ]
  },
  {
   "cell_type": "code",
   "execution_count": 15,
   "metadata": {},
   "outputs": [
    {
     "name": "stdout",
     "output_type": "stream",
     "text": [
      "nn_interpolated_image_shape : (25, 25)\n"
     ]
    }
   ],
   "source": [
    "nni_image =Nearest_neighbour_interpolation(a)\n",
    "cv2.imshow('Binary Image', nni_image*255)  \n",
    "cv2.waitKey(4000)\n",
    "cv2.destroyAllWindows()\n",
    "print(\"nn_interpolated_image_shape :\",nni_image.shape)\n"
   ]
  }
 ],
 "metadata": {
  "kernelspec": {
   "display_name": "Python 3",
   "language": "python",
   "name": "python3"
  },
  "language_info": {
   "codemirror_mode": {
    "name": "ipython",
    "version": 3
   },
   "file_extension": ".py",
   "mimetype": "text/x-python",
   "name": "python",
   "nbconvert_exporter": "python",
   "pygments_lexer": "ipython3",
   "version": "3.10.12"
  }
 },
 "nbformat": 4,
 "nbformat_minor": 2
}
