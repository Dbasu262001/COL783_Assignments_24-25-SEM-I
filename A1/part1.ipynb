{
 "cells": [
  {
   "cell_type": "code",
   "execution_count": 92,
   "metadata": {},
   "outputs": [],
   "source": [
    "import cv2\n",
    "import pandas as pd\n",
    "import numpy as np\n",
    "import os\n",
    "# function to read image\n",
    "def read_image(filename : str)-> np.array:\n",
    "    return cv2.imread(filename)\n",
    "\n",
    "# converting image to grayscale image\n",
    "def get_graycale(image:np.array):\n",
    "    weights= [0.3, 0.58, 0.12]\n",
    "    gray = np.dot(img[..., :3], weights)\n",
    "    return np.round(gray).astype(np.int16)\n",
    "\n",
    "img = read_image(\"data/cse-logo.png\")\n"
   ]
  },
  {
   "cell_type": "code",
   "execution_count": 93,
   "metadata": {},
   "outputs": [],
   "source": [
    "\n",
    "gray_image = get_graycale(img)\n"
   ]
  },
  {
   "cell_type": "code",
   "execution_count": 94,
   "metadata": {},
   "outputs": [
    {
     "name": "stdout",
     "output_type": "stream",
     "text": [
      "r* =  255\n"
     ]
    }
   ],
   "source": [
    "def calculate_histogram(image:np.array):\n",
    "    array = image.flatten()\n",
    "    histogram = np.array([0]*256)\n",
    "    for i in range(array.shape[0]):\n",
    "        histogram[array[i]]+=1\n",
    "    return histogram\n",
    "histogram =calculate_histogram(gray_image)\n",
    "# print(histogram)\n",
    "r_star =np.argmax(histogram)\n",
    "print(\"r* = \",r_star)"
   ]
  },
  {
   "cell_type": "code",
   "execution_count": 95,
   "metadata": {},
   "outputs": [
    {
     "name": "stdout",
     "output_type": "stream",
     "text": [
      "t =  10\n"
     ]
    }
   ],
   "source": [
    "t=10\n",
    "image_a = np.where(np.abs(gray_image - r_star) <= 10, 1, 0).astype(np.uint8)\n",
    "cv2.imwrite(\"output_images/Q1/Q1_image_a.png\",image_a*255,[cv2.IMWRITE_PNG_COMPRESSION, 0])\n",
    "print(\"t = \",t)\n"
   ]
  },
  {
   "cell_type": "code",
   "execution_count": 96,
   "metadata": {},
   "outputs": [],
   "source": [
    "# cv2.imshow('Q1(a) sep background & foreground', image_a*255)\n",
    "# cv2.waitKey(1500)\n",
    "# cv2.destroyAllWindows()"
   ]
  },
  {
   "cell_type": "code",
   "execution_count": 97,
   "metadata": {},
   "outputs": [],
   "source": [
    "#************** Q1 B************\n",
    "############################################\n",
    "#Nearest neighbour interpolation\n",
    "def get_rounded(scale_factor:float,val:float)->int:\n",
    "    if(scale_factor < 1):\n",
    "        return int(val/scale_factor)\n",
    "    else:\n",
    "        return int(val*scale_factor)\n",
    "\n",
    "def Nearest_neighbour_interpolation(image:np.array):\n",
    "    image_shape = image.shape\n",
    "    N = int(.25*max(image_shape[0],image_shape[1]))\n",
    "    row_scale = image_shape[0]/N\n",
    "    col_scale = image_shape[1]/N\n",
    "    resized_image = np.zeros((N,N),dtype=np.int16)\n",
    "    for i in range(N):\n",
    "        for j in range(N):\n",
    "            i_old = int(i*row_scale)\n",
    "            j_old = int(j*col_scale)\n",
    "            resized_image[i,j] = image[i_old,j_old]\n",
    "\n",
    "    return resized_image\n",
    "\n"
   ]
  },
  {
   "cell_type": "code",
   "execution_count": 98,
   "metadata": {},
   "outputs": [
    {
     "data": {
      "text/plain": [
       "True"
      ]
     },
     "execution_count": 98,
     "metadata": {},
     "output_type": "execute_result"
    }
   ],
   "source": [
    "nni_image =Nearest_neighbour_interpolation(image_a)\n",
    "cv2.imwrite(\"output_images/Q1/Q1_nearest_neigh_image_a.png\",nni_image*255,[cv2.IMWRITE_PNG_COMPRESSION, 0])\n",
    "# cv2.imshow('nearest_neigh_image_a', nni_image*255)  \n",
    "# cv2.waitKey(1500)\n",
    "# cv2.destroyAllWindows()\n"
   ]
  },
  {
   "cell_type": "code",
   "execution_count": 99,
   "metadata": {},
   "outputs": [
    {
     "data": {
      "text/plain": [
       "True"
      ]
     },
     "execution_count": 99,
     "metadata": {},
     "output_type": "execute_result"
    }
   ],
   "source": [
    "nni_img = Nearest_neighbour_interpolation(gray_image)\n",
    "cv2.imwrite(\"output_images/Q1/Q1_nearest_neigh_source.png\",nni_img*255,[cv2.IMWRITE_PNG_COMPRESSION, 0])\n",
    "# cv2.imshow('nearest_neigh_image_source', nni_img)  \n",
    "# cv2.waitKey(1500)\n",
    "# cv2.destroyAllWindows()"
   ]
  },
  {
   "cell_type": "code",
   "execution_count": 100,
   "metadata": {},
   "outputs": [],
   "source": [
    "#******** bilinear interpolation**********\n",
    "def bilinear_interpolation(image:np.array):\n",
    "    image_shape = image.shape\n",
    "    N = int(.25*max(image_shape[0],image_shape[1]))\n",
    "    row_scale = (image_shape[0])/(N)\n",
    "    col_scale = (image_shape[1])/(N)\n",
    "    # print(row_scale,col_scale)\n",
    "    resized_image = np.zeros((N,N),dtype=np.int16)\n",
    "\n",
    "    for i in range(N):\n",
    "        for j in range(N):\n",
    "            i_old = i*row_scale\n",
    "            j_old = j*col_scale\n",
    "            x1 = int(np.floor(i_old))\n",
    "            y1 = int(np.floor(j_old))\n",
    "            x2 = min(x1+1,N-1)\n",
    "            y2 = min(y1+1,N-1)\n",
    "            f11 = image[x1,y1]\n",
    "            f12 = image[x1,y2]\n",
    "            f21 = image[x2,y1]\n",
    "            f22 = image[x2,y2]\n",
    "            d_i = i_old - x1\n",
    "            d_j = j_old -y1\n",
    "            linear1= (1-d_j)*f11 + d_j*f12\n",
    "            linear2 = (1-d_j)*f21 +d_j*f22            \n",
    "            resized_image[i,j] = (1-d_i)*linear1 + d_i*linear2\n",
    "    return resized_image\n",
    "\n",
    "    "
   ]
  },
  {
   "cell_type": "code",
   "execution_count": 101,
   "metadata": {},
   "outputs": [
    {
     "data": {
      "text/plain": [
       "True"
      ]
     },
     "execution_count": 101,
     "metadata": {},
     "output_type": "execute_result"
    }
   ],
   "source": [
    "bi_img_src = bilinear_interpolation(gray_image)\n",
    "cv2.imwrite(\"output_images/Q1/Q1_bilinear_source.png\",bi_img_src*255,[cv2.IMWRITE_PNG_COMPRESSION, 0])\n",
    "# cv2.imshow('Bilinear on source', bi_img_src*255)  \n",
    "# cv2.waitKey(1000)\n",
    "# cv2.destroyAllWindows()\n"
   ]
  },
  {
   "cell_type": "code",
   "execution_count": 102,
   "metadata": {},
   "outputs": [
    {
     "data": {
      "text/plain": [
       "True"
      ]
     },
     "execution_count": 102,
     "metadata": {},
     "output_type": "execute_result"
    }
   ],
   "source": [
    "bi_img_a = bilinear_interpolation(image_a)\n",
    "cv2.imwrite(\"output_images/Q1/Q1_bilinear_image_a.png\",bi_img_a*255,[cv2.IMWRITE_PNG_COMPRESSION, 0])\n",
    "# cv2.imshow('Bilinear on image a', bi_img_src*255)  \n",
    "# cv2.waitKey(1000)\n",
    "# cv2.destroyAllWindows()\n"
   ]
  },
  {
   "cell_type": "code",
   "execution_count": 103,
   "metadata": {},
   "outputs": [],
   "source": [
    "#**************Q1 C *******************\n",
    "############################################"
   ]
  },
  {
   "cell_type": "code",
   "execution_count": 104,
   "metadata": {},
   "outputs": [],
   "source": [
    "# cv2.destroyAllWindows()"
   ]
  }
 ],
 "metadata": {
  "kernelspec": {
   "display_name": "Python 3",
   "language": "python",
   "name": "python3"
  },
  "language_info": {
   "codemirror_mode": {
    "name": "ipython",
    "version": 3
   },
   "file_extension": ".py",
   "mimetype": "text/x-python",
   "name": "python",
   "nbconvert_exporter": "python",
   "pygments_lexer": "ipython3",
   "version": "3.10.12"
  }
 },
 "nbformat": 4,
 "nbformat_minor": 2
}
