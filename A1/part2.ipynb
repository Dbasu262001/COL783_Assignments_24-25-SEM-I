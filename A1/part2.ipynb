{
 "cells": [
  {
   "cell_type": "code",
   "execution_count": 329,
   "metadata": {},
   "outputs": [],
   "source": [
    "import numpy as np\n",
    "import pandas as pd\n",
    "import cv2\n",
    "import os\n",
    "image2 = cv2.imread(\"data/memorial.hdr\",cv2.IMREAD_ANYDEPTH)\n"
   ]
  },
  {
   "cell_type": "markdown",
   "metadata": {},
   "source": [
    "Q2 A "
   ]
  },
  {
   "cell_type": "code",
   "execution_count": 330,
   "metadata": {},
   "outputs": [
    {
     "name": "stdout",
     "output_type": "stream",
     "text": [
      "gray_image shape (768, 512)\n",
      "******** Q2 a ************\n",
      "maximum intensity =  204.66667\n",
      "minimum intensity =  0.0006828308\n",
      "contrast ratio =  299732.62\n"
     ]
    }
   ],
   "source": [
    "#**************Q2 A***************\n",
    "gray_image2 = np.mean(image2,axis=2)\n",
    "print(\"gray_image shape\",gray_image2.shape)\n",
    "np.max(gray_image2)\n",
    "print(\"******** Q2 a ************\")\n",
    "max_intensity = np.max(gray_image2)\n",
    "min_intensity = np.min(gray_image2)\n",
    "contrast_ratio = (max_intensity)/(min_intensity)\n",
    "print(\"maximum intensity = \",max_intensity)\n",
    "print(\"minimum intensity = \", min_intensity)\n",
    "print(\"contrast ratio = \", contrast_ratio)"
   ]
  },
  {
   "cell_type": "code",
   "execution_count": 331,
   "metadata": {},
   "outputs": [],
   "source": [
    "#****c1 = 1/min_intensity"
   ]
  },
  {
   "cell_type": "code",
   "execution_count": 346,
   "metadata": {},
   "outputs": [
    {
     "name": "stdout",
     "output_type": "stream",
     "text": [
      "299731.62\n"
     ]
    },
    {
     "data": {
      "text/plain": [
       "255.0"
      ]
     },
     "execution_count": 346,
     "metadata": {},
     "output_type": "execute_result"
    }
   ],
   "source": [
    "c1 = 1/min_intensity\n",
    "scaled_image_c1 = gray_image2 * c1\n",
    "diff = np.max(scaled_image_c1) - np.min(scaled_image_c1)\n",
    "print(diff)\n",
    "scaled_image_c1 = (scaled_image_c1 - np.min(scaled_image_c1)) *(255/diff)\n",
    "np.max(scaled_image_c1)"
   ]
  },
  {
   "cell_type": "code",
   "execution_count": 345,
   "metadata": {},
   "outputs": [],
   "source": [
    "cv2.imshow('scaled_image_c1 Image', scaled_image_c1)  # Multiply by 255 to visualize\n",
    "cv2.waitKey(8000)\n",
    "cv2.destroyAllWindows()"
   ]
  },
  {
   "cell_type": "code",
   "execution_count": 334,
   "metadata": {},
   "outputs": [
    {
     "data": {
      "text/plain": [
       "0.0008507582"
      ]
     },
     "execution_count": 334,
     "metadata": {},
     "output_type": "execute_result"
    }
   ],
   "source": [
    "c2 = 255/max_intensity\n",
    "scaled_image_c2 = gray_image2*c2\n",
    "np.min(scaled_image_c2)"
   ]
  },
  {
   "cell_type": "code",
   "execution_count": 335,
   "metadata": {},
   "outputs": [],
   "source": [
    "cv2.imshow('scaled_image_c2 Image', scaled_image_c2)  # Multiply by 255 to visualize\n",
    "cv2.waitKey(8000)\n",
    "cv2.destroyAllWindows()"
   ]
  },
  {
   "cell_type": "markdown",
   "metadata": {},
   "source": [
    "Q2 B"
   ]
  },
  {
   "cell_type": "code",
   "execution_count": 349,
   "metadata": {},
   "outputs": [
    {
     "data": {
      "text/plain": [
       "0"
      ]
     },
     "execution_count": 349,
     "metadata": {},
     "output_type": "execute_result"
    }
   ],
   "source": [
    "#******************Q2 B*****************\n",
    "#Log transfprmation\n",
    "\n",
    "log_image = np.log(gray_image2) # image after log operation\n",
    "#scaling a*log(r) + b\n",
    "log_image_t = (255/(np.max(log_image)-np.min(log_image)))*log_image -(255/(np.max(log_image)-np.min(log_image)))*np.min(log_image)\n",
    "#clipping\n",
    "log_transformed_image = (((log_image_t - np.min(log_image_t))/(np.max(log_image_t)-np.min(log_image_t)))*255).astype(np.uint8)\n",
    "\n",
    "# log_transformed_image = np.where(log_transformed_image <0,0,log_transformed_image)\n",
    "np.min(log_transformed_image)"
   ]
  },
  {
   "cell_type": "code",
   "execution_count": 350,
   "metadata": {},
   "outputs": [],
   "source": [
    "\n",
    "cv2.imshow('scaled_image_c2 Image', log_transformed_image)  # Multiply by 255 to visualize\n",
    "cv2.waitKey(8000)\n",
    "cv2.destroyAllWindows()"
   ]
  },
  {
   "cell_type": "code",
   "execution_count": 353,
   "metadata": {},
   "outputs": [],
   "source": [
    "#************(exponent of log transformed)\n",
    "log_image =np.log(gray_image2) # image after using log operation\n",
    "a = np.log(255)/(np.max(log_image) - np.min(log_image))\n",
    "b = -a * np.min(log_image)\n",
    "exponent_image = np.exp(a*log_image +b)\n",
    "exponent_image_transformed = (255*(exponent_image - np.min(exponent_image))/(np.max(exponent_image) - np.min(exponent_image))).astype(np.uint8)\n"
   ]
  },
  {
   "cell_type": "code",
   "execution_count": 354,
   "metadata": {},
   "outputs": [],
   "source": [
    "cv2.imshow('scaled_image_c2 Image', exponent_image_transformed)  # Multiply by 255 to visualize\n",
    "cv2.waitKey(8000)\n",
    "cv2.destroyAllWindows()"
   ]
  },
  {
   "cell_type": "markdown",
   "metadata": {},
   "source": [
    "Q2 C"
   ]
  }
 ],
 "metadata": {
  "kernelspec": {
   "display_name": "Python 3",
   "language": "python",
   "name": "python3"
  },
  "language_info": {
   "codemirror_mode": {
    "name": "ipython",
    "version": 3
   },
   "file_extension": ".py",
   "mimetype": "text/x-python",
   "name": "python",
   "nbconvert_exporter": "python",
   "pygments_lexer": "ipython3",
   "version": "3.10.12"
  }
 },
 "nbformat": 4,
 "nbformat_minor": 2
}
