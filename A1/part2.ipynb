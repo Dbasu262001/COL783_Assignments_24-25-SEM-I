{
 "cells": [
  {
   "cell_type": "code",
   "execution_count": 23,
   "metadata": {},
   "outputs": [],
   "source": [
    "import numpy as np\n",
    "import pandas as pd\n",
    "import cv2\n",
    "import os\n",
    "image2 = cv2.imread(\"data/memorial.hdr\",cv2.IMREAD_ANYDEPTH)\n"
   ]
  },
  {
   "cell_type": "markdown",
   "metadata": {},
   "source": [
    "Q2 A "
   ]
  },
  {
   "cell_type": "code",
   "execution_count": 24,
   "metadata": {},
   "outputs": [
    {
     "name": "stdout",
     "output_type": "stream",
     "text": [
      "gray_image shape (768, 512)\n",
      "******** Q2 a ************\n",
      "maximum intensity =  204.66667\n",
      "minimum intensity =  0.0006828308\n",
      "contrast ratio =  299732.62\n"
     ]
    }
   ],
   "source": [
    "#**************Q2 A***************\n",
    "gray_image2 = np.mean(image2,axis=2)\n",
    "print(\"gray_image shape\",gray_image2.shape)\n",
    "np.max(gray_image2)\n",
    "print(\"******** Q2 a ************\")\n",
    "max_intensity = np.max(gray_image2)\n",
    "min_intensity = np.min(gray_image2)\n",
    "contrast_ratio = (max_intensity)/(min_intensity)\n",
    "print(\"maximum intensity = \",max_intensity)\n",
    "print(\"minimum intensity = \", min_intensity)\n",
    "print(\"contrast ratio = \", contrast_ratio)"
   ]
  },
  {
   "cell_type": "code",
   "execution_count": null,
   "metadata": {},
   "outputs": [],
   "source": []
  },
  {
   "cell_type": "code",
   "execution_count": 25,
   "metadata": {},
   "outputs": [
    {
     "data": {
      "text/plain": [
       "255.0"
      ]
     },
     "execution_count": 25,
     "metadata": {},
     "output_type": "execute_result"
    }
   ],
   "source": [
    "c1 = 1/min_intensity\n",
    "scaled_image_c1 = gray_image2 * c1\n",
    "diff = np.max(scaled_image_c1) - np.min(scaled_image_c1)\n",
    "scaled_image_c1 = (scaled_image_c1 - np.min(scaled_image_c1)) *(255/diff)\n",
    "np.max(scaled_image_c1)"
   ]
  },
  {
   "cell_type": "code",
   "execution_count": 26,
   "metadata": {},
   "outputs": [
    {
     "data": {
      "text/plain": [
       "True"
      ]
     },
     "execution_count": 26,
     "metadata": {},
     "output_type": "execute_result"
    }
   ],
   "source": [
    "cv2.imwrite(\"output_images/Q2/Q2_a_min_intensity_1.png\",scaled_image_c1,[cv2.IMWRITE_PNG_COMPRESSION,0])\n"
   ]
  },
  {
   "cell_type": "code",
   "execution_count": 27,
   "metadata": {},
   "outputs": [],
   "source": [
    "# cv2.imshow('minimum intensity 1 Image', scaled_image_c1)  # Multiply by 255 to visualize\n",
    "# cv2.waitKey(8000)\n",
    "# cv2.destroyAllWindows()"
   ]
  },
  {
   "cell_type": "code",
   "execution_count": 28,
   "metadata": {},
   "outputs": [],
   "source": [
    "c2 = 255/max_intensity\n",
    "scaled_image_c2 = gray_image2*c2\n",
    "# np.min(scaled_image_c2)"
   ]
  },
  {
   "cell_type": "code",
   "execution_count": 29,
   "metadata": {},
   "outputs": [
    {
     "data": {
      "text/plain": [
       "True"
      ]
     },
     "execution_count": 29,
     "metadata": {},
     "output_type": "execute_result"
    }
   ],
   "source": [
    "cv2.imwrite(\"output_images/Q2/Q2_a_max_intensity_255.png\",scaled_image_c2,[cv2.IMWRITE_PNG_COMPRESSION,0])\n"
   ]
  },
  {
   "cell_type": "code",
   "execution_count": 30,
   "metadata": {},
   "outputs": [],
   "source": [
    "# cv2.imshow('maximum intensity is 255 Image', scaled_image_c2)  # Multiply by 255 to visualize\n",
    "# cv2.waitKey(8000)\n",
    "# cv2.destroyAllWindows()"
   ]
  },
  {
   "cell_type": "markdown",
   "metadata": {},
   "source": [
    "Q2 B"
   ]
  },
  {
   "cell_type": "code",
   "execution_count": 44,
   "metadata": {},
   "outputs": [
    {
     "data": {
      "text/plain": [
       "True"
      ]
     },
     "execution_count": 44,
     "metadata": {},
     "output_type": "execute_result"
    }
   ],
   "source": [
    "#******************Q2 B*****************\n",
    "#Log transfprmation\n",
    "\n",
    "log_image = np.log(gray_image2) # image after log operation\n",
    "#scaling a*log(r) + b\n",
    "log_image_t = (255/(np.max(log_image)-np.min(log_image)))*log_image -(255/(np.max(log_image)-np.min(log_image)))*np.min(log_image)\n",
    "#clipping\n",
    "log_transformed_image = (((log_image_t - np.min(log_image_t))/(np.max(log_image_t)-np.min(log_image_t)))*255).astype(np.uint8)\n",
    "cv2.imwrite(\"output_images/Q2/Q2_b_log_tranformed.png\",log_transformed_image,[cv2.IMWRITE_PNG_COMPRESSION,0])\n"
   ]
  },
  {
   "cell_type": "code",
   "execution_count": 32,
   "metadata": {},
   "outputs": [],
   "source": [
    "\n",
    "# cv2.imshow('log scaling Image', log_transformed_image)  # Multiply by 255 to visualize\n",
    "# cv2.waitKey(8000)\n",
    "# cv2.destroyAllWindows()"
   ]
  },
  {
   "cell_type": "markdown",
   "metadata": {},
   "source": [
    "Q2 C"
   ]
  },
  {
   "cell_type": "code",
   "execution_count": 51,
   "metadata": {},
   "outputs": [
    {
     "name": "stdout",
     "output_type": "stream",
     "text": [
      "minimum value of c exponent image = 1\n"
     ]
    },
    {
     "data": {
      "text/plain": [
       "True"
      ]
     },
     "execution_count": 51,
     "metadata": {},
     "output_type": "execute_result"
    }
   ],
   "source": [
    "#************* Q2 C***********************\n",
    "#************(exponent of log transformed)\n",
    "log_image =np.log(gray_image2) # image after using log operation\n",
    "a = np.log(255)/(np.max(log_image) - np.min(log_image))\n",
    "b = -a * np.min(log_image)\n",
    "linear_transform = a*log_image +b\n",
    "exponent_image = np.exp(linear_transform).astype(np.uint8)\n",
    "print(\"minimum value of c exponent image =\",np.min(exponent_image))\n",
    "cv2.imwrite(\"output_images/Q2/Q2_c_exp_after_log.png\",exponent_image,[cv2.IMWRITE_PNG_COMPRESSION,0])\n"
   ]
  },
  {
   "cell_type": "code",
   "execution_count": 45,
   "metadata": {},
   "outputs": [],
   "source": [
    "# cv2.imshow('exponent of log scaling Image', exponent_image)  # Multiply by 255 to visualize\n",
    "# cv2.waitKey(8000)\n",
    "# cv2.destroyAllWindows()"
   ]
  },
  {
   "cell_type": "markdown",
   "metadata": {},
   "source": [
    "Q2 D"
   ]
  },
  {
   "cell_type": "code",
   "execution_count": 49,
   "metadata": {},
   "outputs": [],
   "source": [
    "#**************Q2 D***********\n",
    "log_image = np.log(gray_image2)\n",
    "def histogram_equalization(image:np.array):\n",
    "    flattened_image = image.flatten().astype(np.int16)\n",
    "    histogram = np.bincount(flattened_image,minlength=256)\n",
    "    cdf = histogram.cumsum()\n",
    "    normalized_cdf = 255*((cdf - cdf.min())/(cdf.max() - cdf.min()))\n",
    "    equalized_image = normalized_cdf[flattened_image]\n",
    "    equalized_image = equalized_image.reshape(image.shape).astype(np.uint8)\n",
    "    return equalized_image\n",
    "gray_image_histo_equalized=histogram_equalization(gray_image2)\n"
   ]
  },
  {
   "cell_type": "code",
   "execution_count": 52,
   "metadata": {},
   "outputs": [
    {
     "data": {
      "text/plain": [
       "True"
      ]
     },
     "execution_count": 52,
     "metadata": {},
     "output_type": "execute_result"
    }
   ],
   "source": [
    "cv2.imwrite(\"output_images/Q2/Q2_d_histo_eq_gray.png\",exponent_image,[cv2.IMWRITE_PNG_COMPRESSION,0])"
   ]
  },
  {
   "cell_type": "code",
   "execution_count": 36,
   "metadata": {},
   "outputs": [],
   "source": [
    "# cv2.imshow('histogram_equalized Image without log', gray_image_histo_equalized)  # Multiply by 255 to visualize\n",
    "# cv2.waitKey(8000)\n",
    "# cv2.destroyAllWindows()"
   ]
  },
  {
   "cell_type": "code",
   "execution_count": 53,
   "metadata": {},
   "outputs": [
    {
     "data": {
      "text/plain": [
       "True"
      ]
     },
     "execution_count": 53,
     "metadata": {},
     "output_type": "execute_result"
    }
   ],
   "source": [
    "log_image_eq = log_image_t.astype(np.int16) #image after log transform\n",
    "log_equailized_image = histogram_equalization(log_image_eq)\n",
    "cv2.imwrite(\"output_images/Q2/Q2_d_histo_eq_with_log.png\",log_equailized_image,[cv2.IMWRITE_PNG_COMPRESSION,0])\n"
   ]
  },
  {
   "cell_type": "code",
   "execution_count": 38,
   "metadata": {},
   "outputs": [],
   "source": [
    "# cv2.imshow('histogram_equalized Image after log', log_equailized_image)  # Multiply by 255 to visualize\n",
    "# cv2.waitKey(8000)\n",
    "# cv2.destroyAllWindows()"
   ]
  },
  {
   "cell_type": "code",
   "execution_count": 39,
   "metadata": {},
   "outputs": [],
   "source": [
    "#******************Q2 E**************\n",
    "my_image = cv2.imread(\"data/palace.jpg\",cv2.IMREAD_ANYDEPTH)"
   ]
  },
  {
   "cell_type": "code",
   "execution_count": 71,
   "metadata": {},
   "outputs": [],
   "source": [
    "def histogram_matching(source:np.array,target:np.array):\n",
    "    source_histo = np.bincount(source.flatten().astype(np.int16))\n",
    "    target_histo = np.bincount(target.flatten().astype(np.int16))\n",
    "    source_cdf = source_histo.cumsum()\n",
    "    source_cdf = source_cdf /source_cdf[-1]\n",
    "    target_cdf = target_histo.cumsum()\n",
    "    target_cdf = target_cdf /target_cdf[-1]\n",
    "    matching_table = np.zeros(256,dtype=np.uint8)\n",
    "    t=0\n",
    "    for i in range(256):\n",
    "        while (t < 256 and target_cdf[t] < source_cdf[i] ):\n",
    "            t+=1\n",
    "        matching_table[i] = t\n",
    "    matched_image = matching_table[source.flatten().astype(np.int16)]\n",
    "    return matched_image.reshape(source.shape)\n",
    "\n"
   ]
  },
  {
   "cell_type": "code",
   "execution_count": 72,
   "metadata": {},
   "outputs": [],
   "source": [
    "histogram_match_image =histogram_matching(log_equailized_image,my_image)"
   ]
  },
  {
   "cell_type": "code",
   "execution_count": 73,
   "metadata": {},
   "outputs": [
    {
     "data": {
      "text/plain": [
       "True"
      ]
     },
     "execution_count": 73,
     "metadata": {},
     "output_type": "execute_result"
    }
   ],
   "source": [
    "cv2.imwrite(\"output_images/Q2/Q2_e_original.png\",my_image.astype(np.uint8),[cv2.IMWRITE_PNG_COMPRESSION,0])\n",
    "\n",
    "cv2.imwrite(\"output_images/Q2/Q2_e_histogram_matching.png\",histogram_match_image,[cv2.IMWRITE_PNG_COMPRESSION,0])\n"
   ]
  },
  {
   "cell_type": "code",
   "execution_count": 42,
   "metadata": {},
   "outputs": [],
   "source": [
    "# cv2.imshow('histogram matching Image', histogram_match_image)  # Multiply by 255 to visualize\n",
    "# cv2.waitKey(8000)\n",
    "# cv2.destroyAllWindows()"
   ]
  }
 ],
 "metadata": {
  "kernelspec": {
   "display_name": "Python 3",
   "language": "python",
   "name": "python3"
  },
  "language_info": {
   "codemirror_mode": {
    "name": "ipython",
    "version": 3
   },
   "file_extension": ".py",
   "mimetype": "text/x-python",
   "name": "python",
   "nbconvert_exporter": "python",
   "pygments_lexer": "ipython3",
   "version": "3.10.12"
  }
 },
 "nbformat": 4,
 "nbformat_minor": 2
}
