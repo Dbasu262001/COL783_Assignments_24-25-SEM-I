{
 "cells": [
  {
   "cell_type": "code",
   "execution_count": 7,
   "metadata": {},
   "outputs": [],
   "source": [
    "import numpy as np\n",
    "import pandas as pd\n",
    "import cv2\n",
    "import os\n",
    "image3 = cv2.imread(\"data/memorial.hdr\",cv2.IMREAD_ANYDEPTH)\n"
   ]
  },
  {
   "cell_type": "code",
   "execution_count": 8,
   "metadata": {},
   "outputs": [],
   "source": [
    "import numpy as np\n",
    "import cv2\n",
    "\n",
    "def hsi_to_rgb(h, s, i):\n",
    "    h = h * 360\n",
    "    if(h >= 240):\n",
    "        Hs = h-240\n",
    "    elif(h >= 120):\n",
    "        Hs = h-120\n",
    "    else:\n",
    "        Hs = h\n",
    "    a = i * (1 - s)\n",
    "    b = i * (1 + s * np.cos(np.radians(Hs)) / np.cos(np.radians(60 - Hs)))\n",
    "    c = 3*i - (a+b)\n",
    "    if h < 120:\n",
    "        b,r,g = a,b,c\n",
    "    elif h < 240:\n",
    "        r,g,b = a,b,c\n",
    "    else:\n",
    "        g,b,r = a,b,c\n",
    "    return np.clip(np.array([r, g, b]), 0, 1)\n",
    "\n",
    "def create_hsi_image(image_size=256,constant='hue',val = 0.5):\n",
    "    image = np.zeros((image_size,image_size, 3), dtype=np.float32)\n",
    "    m = image_size-1\n",
    "    for y in range(m):\n",
    "        for x in range(m):\n",
    "            if constant == 'hue':\n",
    "                s = x / m\n",
    "                i = y / m\n",
    "                rgb = hsi_to_rgb(val, s, i)\n",
    "            elif constant == 'saturation':\n",
    "                h = x / m\n",
    "                i = y / m\n",
    "                rgb = hsi_to_rgb(h, val, i)\n",
    "            elif constant == 'intensity':\n",
    "                h = x / m\n",
    "                s = y / m\n",
    "                rgb = hsi_to_rgb(h, s, val)\n",
    "            if np.any(rgb < 0) or np.any(rgb > 1):\n",
    "                rgb = [1, 0, 0]  # Error color (red)\n",
    "            image[y, x] = rgb\n",
    "    return (image * 255).astype(np.uint8)\n",
    "\n",
    "# Create images\n",
    "hue_constant_image = create_hsi_image(image_size=400,constant='hue',val=0.9)\n",
    "saturation_constant_image = create_hsi_image(image_size=400,constant='saturation',val=0.7)\n",
    "intensity_constant_image = create_hsi_image(image_size=400,constant='intensity',val=0.4)\n",
    "\n",
    "# Save images\n",
    "cv2.imwrite('output_images/Q4/Q4_a_hue_constant.png', hue_constant_image)\n",
    "cv2.imwrite('output_images/Q4/Q4_a_saturation_constant.png', saturation_constant_image)\n",
    "cv2.imwrite('output_images/Q4/Q4_a_intensity_constant.png', intensity_constant_image)\n",
    "\n",
    "# Display images\n",
    "cv2.imshow('Hue Constant image', hue_constant_image)\n",
    "cv2.imshow('Saturation Constant image', saturation_constant_image)\n",
    "cv2.imshow('Intensity Constant image', intensity_constant_image)\n",
    "cv2.waitKey(5000)\n",
    "cv2.destroyAllWindows()\n"
   ]
  },
  {
   "cell_type": "code",
   "execution_count": null,
   "metadata": {},
   "outputs": [],
   "source": []
  }
 ],
 "metadata": {
  "kernelspec": {
   "display_name": "Python 3",
   "language": "python",
   "name": "python3"
  },
  "language_info": {
   "codemirror_mode": {
    "name": "ipython",
    "version": 3
   },
   "file_extension": ".py",
   "mimetype": "text/x-python",
   "name": "python",
   "nbconvert_exporter": "python",
   "pygments_lexer": "ipython3",
   "version": "3.10.12"
  }
 },
 "nbformat": 4,
 "nbformat_minor": 2
}
