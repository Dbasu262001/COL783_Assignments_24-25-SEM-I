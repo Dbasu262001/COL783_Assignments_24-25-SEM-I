{
 "cells": [
  {
   "cell_type": "code",
   "execution_count": 172,
   "metadata": {},
   "outputs": [],
   "source": [
    "import numpy as np\n",
    "import pandas as pd\n",
    "import cv2\n",
    "import os\n",
    "image4 = cv2.imread(\"data/memorial.hdr\",cv2.IMREAD_ANYDEPTH)"
   ]
  },
  {
   "cell_type": "code",
   "execution_count": 173,
   "metadata": {},
   "outputs": [],
   "source": [
    "#************ Q4 a************8\n",
    "# Converting hsi image to rgb image\n",
    "def hsi_to_rgb_value(h, s, i):\n",
    "    h = h * 360\n",
    "    if(h >= 240):\n",
    "        Hs = h-240\n",
    "    elif(h >= 120):\n",
    "        Hs = h-120\n",
    "    else:\n",
    "        Hs = h\n",
    "    a = i * (1 - s)\n",
    "    b = i * (1 + s * np.cos(np.radians(Hs)) / np.cos(np.radians(60 - Hs)))\n",
    "    c = 3*i - (a+b)\n",
    "    if h < 120:\n",
    "        b,r,g = a,b,c\n",
    "    elif h < 240:\n",
    "        r,g,b = a,b,c\n",
    "    else:\n",
    "        g,b,r = a,b,c\n",
    "    return np.clip(np.array([r, g, b]), 0, 1)\n",
    "\n",
    "# Creating an hsi image \n",
    "def create_hsi_image(image_size=256,constant='hue',val = 0.5):\n",
    "    image = np.zeros((image_size,image_size, 3), dtype=np.float32)\n",
    "    m = image_size-1\n",
    "    for y in range(m):\n",
    "        for x in range(m):\n",
    "            if constant == 'hue':\n",
    "                s = x / m\n",
    "                i = y / m\n",
    "                rgb = hsi_to_rgb_value(val, s, i)\n",
    "            elif constant == 'saturation':\n",
    "                h = x / m\n",
    "                i = y / m\n",
    "                rgb = hsi_to_rgb_value(h, val, i)\n",
    "            elif constant == 'intensity':\n",
    "                h = x / m\n",
    "                s = y / m\n",
    "                rgb = hsi_to_rgb_value(h, s, val)\n",
    "            if np.any(rgb < 0) or np.any(rgb > 1):\n",
    "                rgb = [1, 0, 0]  # Error color (red)\n",
    "            image[y, x] = rgb\n",
    "    return (image * 255).astype(np.uint8)\n",
    "\n",
    "# Create images\n",
    "hue_constant_image = create_hsi_image(image_size=400,constant='hue',val=0.9)\n",
    "saturation_constant_image = create_hsi_image(image_size=400,constant='saturation',val=0.7)\n",
    "intensity_constant_image = create_hsi_image(image_size=400,constant='intensity',val=0.4)\n",
    "\n",
    "# Save images\n",
    "cv2.imwrite('output_images/Q4/Q4_a_hue_constant.png', hue_constant_image)\n",
    "cv2.imwrite('output_images/Q4/Q4_a_saturation_constant.png', saturation_constant_image)\n",
    "cv2.imwrite('output_images/Q4/Q4_a_intensity_constant.png', intensity_constant_image)\n",
    "\n",
    "# Display images\n",
    "cv2.imshow('Hue Constant image', hue_constant_image)\n",
    "cv2.imshow('Saturation Constant image', saturation_constant_image)\n",
    "cv2.imshow('Intensity Constant image', intensity_constant_image)\n",
    "cv2.waitKey(5000)\n",
    "cv2.destroyAllWindows()\n"
   ]
  },
  {
   "cell_type": "code",
   "execution_count": 174,
   "metadata": {},
   "outputs": [],
   "source": [
    "######********** Q4 c******************"
   ]
  },
  {
   "cell_type": "code",
   "execution_count": 175,
   "metadata": {},
   "outputs": [],
   "source": [
    "#### RGB  image to HSI\n",
    "def rgb_to_hsi(image:np.array):\n",
    "    normalised_img = image /255.0\n",
    "    I = np.sum(normalised_img,axis=2)/3.0\n",
    "    r = normalised_img[:,:,0]\n",
    "    g = normalised_img[:,:,1]\n",
    "    b = normalised_img[:,:,2]\n",
    "    S = 1 - (3*np.minimum(r,np.minimum(g,b))/(r+g+b +1e-9))\n",
    "    hue_angle = np.arccos(0.5 * (2*r - g - b) / (np.sqrt( np.square(r-g) + (r-b)*(g-b) +1e-9 )))\n",
    "    H = 0.5*np.where(b<=g,hue_angle,2*np.pi - hue_angle)/np.pi\n",
    "    hsi = np.stack([H,S,I],axis=-1)\n",
    "    return hsi\n",
    "\n",
    "## #******** HSI image to hsi\n",
    "def hsi_to_rgb_image(image:np.array):\n",
    "    rgb_image = np.zeros(shape=image.shape)\n",
    "    for x in range(image.shape[0]):\n",
    "        for y in range(image.shape[1]):\n",
    "            rgb = hsi_to_rgb_value(image[x,y,0],image[x,y,1],image[x,y,2])\n",
    "            if np.any(rgb < 0) or np.any(rgb > 1):\n",
    "                rgb = [1, 0, 0]  # Error color (red)\n",
    "            image[x, y] = rgb\n",
    "    return (image * 255.0)"
   ]
  },
  {
   "cell_type": "code",
   "execution_count": null,
   "metadata": {},
   "outputs": [],
   "source": []
  },
  {
   "cell_type": "code",
   "execution_count": 176,
   "metadata": {},
   "outputs": [],
   "source": [
    "def reduce_contrast(image:np.array):\n",
    "    image[:,:,2] = 1e-4 + ((image[:,:,2]-np.min(image[:,:,2]))/(np.max(image[:,:,2] -np.min(image[:,:,2]))))*(1-1e-4)\n",
    "    return image\n"
   ]
  },
  {
   "cell_type": "code",
   "execution_count": null,
   "metadata": {},
   "outputs": [],
   "source": []
  },
  {
   "cell_type": "code",
   "execution_count": 177,
   "metadata": {},
   "outputs": [
    {
     "name": "stdout",
     "output_type": "stream",
     "text": [
      "0.0\n"
     ]
    },
    {
     "data": {
      "text/plain": [
       "0.0"
      ]
     },
     "execution_count": 177,
     "metadata": {},
     "output_type": "execute_result"
    }
   ],
   "source": [
    "pg = rgb_to_hsi(image4)\n",
    "hg = reduce_contrast(pg)\n",
    "print(np.min(hg))\n",
    "rg = hsi_to_rgb_image(hg)\n",
    "np.min(rg)"
   ]
  },
  {
   "cell_type": "code",
   "execution_count": 178,
   "metadata": {},
   "outputs": [],
   "source": [
    "cv2.imshow('Intensity Constant image', rg)\n",
    "cv2.waitKey(5000)\n",
    "cv2.destroyAllWindows()"
   ]
  },
  {
   "cell_type": "code",
   "execution_count": 197,
   "metadata": {},
   "outputs": [],
   "source": [
    "#***********\n",
    "#************Q4 d************\n",
    "def gamma_correction(image:np.array,gamma:float):\n",
    "    # # image = image/255.0\n",
    "    # print(np.max(image[:,:,0]))\n",
    "    # gamma_corrected_image = image**gamma\n",
    "    # print(np.min(image[:,:,0]))\n",
    "    # gamma_corrected_image = 255*gamma_corrected_image\n",
    "    # print(np.min(gamma_corrected_image))\n",
    "    # print(np.max(gamma_corrected_image))\n",
    "\n",
    "    # scaled_image = 255*((gamma_corrected_image - np.min(gamma_corrected_image))/(np.max(gamma_corrected_image) - np.min(gamma_corrected_image)))\n",
    "    # return scaled_image\n",
    "    return np.clip((image / 255.0) ** gamma * 255, 0, 255)\n",
    "\n",
    "\n"
   ]
  },
  {
   "cell_type": "code",
   "execution_count": 200,
   "metadata": {},
   "outputs": [],
   "source": [
    "gg = gamma_correction(image4,(1/2.2))"
   ]
  },
  {
   "cell_type": "code",
   "execution_count": 201,
   "metadata": {},
   "outputs": [],
   "source": [
    "cv2.imshow('Intensity Constant image', gg)\n",
    "cv2.waitKey(5000)\n",
    "cv2.destroyAllWindows()"
   ]
  }
 ],
 "metadata": {
  "kernelspec": {
   "display_name": "Python 3",
   "language": "python",
   "name": "python3"
  },
  "language_info": {
   "codemirror_mode": {
    "name": "ipython",
    "version": 3
   },
   "file_extension": ".py",
   "mimetype": "text/x-python",
   "name": "python",
   "nbconvert_exporter": "python",
   "pygments_lexer": "ipython3",
   "version": "3.10.12"
  }
 },
 "nbformat": 4,
 "nbformat_minor": 2
}
