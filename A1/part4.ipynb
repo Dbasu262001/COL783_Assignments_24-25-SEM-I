{
 "cells": [
  {
   "cell_type": "code",
   "execution_count": 2,
   "metadata": {},
   "outputs": [],
   "source": [
    "import numpy as np\n",
    "import pandas as pd\n",
    "import cv2\n",
    "import os\n",
    "image4 = cv2.imread(\"data/vinesunset.hdr\",cv2.IMREAD_ANYDEPTH)\n",
    "import matplotlib.pyplot as plt\n"
   ]
  },
  {
   "cell_type": "code",
   "execution_count": 3,
   "metadata": {},
   "outputs": [
    {
     "data": {
      "text/plain": [
       "True"
      ]
     },
     "execution_count": 3,
     "metadata": {},
     "output_type": "execute_result"
    }
   ],
   "source": [
    "#************ Q4 a************8\n",
    "# Converting hsi image to rgb image\n",
    "def hsi_to_rgb_value(h, s, i):\n",
    "    h = h * 360\n",
    "    if(h >= 240):\n",
    "        Hs = h-240\n",
    "    elif(h >= 120):\n",
    "        Hs = h-120\n",
    "    else:\n",
    "        Hs = h\n",
    "    a = i * (1 - s)\n",
    "    b = i * (1 + s * np.cos(np.radians(Hs)) / np.cos(np.radians(60 - Hs)))\n",
    "    c = 3*i - (a+b)\n",
    "    if h < 120:\n",
    "        b,r,g = a,b,c\n",
    "    elif h < 240:\n",
    "        r,g,b = a,b,c\n",
    "    else:\n",
    "        g,b,r = a,b,c\n",
    "    return np.clip(np.array([r, g, b]), 0, 1)\n",
    "\n",
    "# Creating an hsi image \n",
    "def create_hsi_image(image_size=256,constant='hue',val = 0.5):\n",
    "    image = np.zeros((image_size,image_size, 3), dtype=np.float32)\n",
    "    m = image_size-1\n",
    "    for y in range(m):\n",
    "        for x in range(m):\n",
    "            if constant == 'hue':\n",
    "                s = x / m\n",
    "                i = y / m\n",
    "                rgb = hsi_to_rgb_value(val, s, i)\n",
    "            elif constant == 'saturation':\n",
    "                h = x / m\n",
    "                i = y / m\n",
    "                rgb = hsi_to_rgb_value(h, val, i)\n",
    "            elif constant == 'intensity':\n",
    "                h = x / m\n",
    "                s = y / m\n",
    "                rgb = hsi_to_rgb_value(h, s, val)\n",
    "            if np.any(rgb < 0) or np.any(rgb > 1):\n",
    "                rgb = [1, 0, 0]  # Error color (red)\n",
    "            image[y, x] = rgb\n",
    "    return (image * 255).astype(np.uint8)\n",
    "\n",
    "# Create images\n",
    "hue_constant_image = create_hsi_image(image_size=400,constant='hue',val=0.9)\n",
    "saturation_constant_image = create_hsi_image(image_size=400,constant='saturation',val=0.7)\n",
    "intensity_constant_image = create_hsi_image(image_size=400,constant='intensity',val=0.4)\n",
    "\n",
    "# Save images\n",
    "cv2.imwrite('output_images/Q4/Q4_a_hue_constant.png', hue_constant_image)\n",
    "cv2.imwrite('output_images/Q4/Q4_a_saturation_constant.png', saturation_constant_image)\n",
    "cv2.imwrite('output_images/Q4/Q4_a_intensity_constant.png', intensity_constant_image)\n"
   ]
  },
  {
   "cell_type": "code",
   "execution_count": 4,
   "metadata": {},
   "outputs": [],
   "source": [
    "######********** Q4 c******************"
   ]
  },
  {
   "cell_type": "code",
   "execution_count": 5,
   "metadata": {},
   "outputs": [],
   "source": [
    "#### RGB  image to HSI\n",
    "def rgb_to_hsi(image:np.array):\n",
    "    normalised_img = image /255.0\n",
    "    I = np.sum(normalised_img,axis=2)/3.0\n",
    "    r = normalised_img[:,:,0]\n",
    "    g = normalised_img[:,:,1]\n",
    "    b = normalised_img[:,:,2]\n",
    "    S = 1 - (3*np.minimum(r,np.minimum(g,b))/(r+g+b +1e-9))\n",
    "    hue_angle = np.arccos(0.5 * (2*r - g - b) / (np.sqrt( np.square(r-g) + (r-b)*(g-b) +1e-9 )))\n",
    "    H = 0.5*np.where(b<=g,hue_angle,2*np.pi - hue_angle)/np.pi\n",
    "    hsi = np.stack([H,S,I],axis=-1)\n",
    "    return hsi\n",
    "\n",
    "## #******** HSI image to hsi\n",
    "def hsi_to_rgb_image(image:np.array):\n",
    "    rgb_image = np.zeros(shape=image.shape)\n",
    "    for x in range(image.shape[0]):\n",
    "        for y in range(image.shape[1]):\n",
    "            rgb = hsi_to_rgb_value(image[x,y,0],image[x,y,1],image[x,y,2])\n",
    "            if np.any(rgb < 0) or np.any(rgb > 1):\n",
    "                rgb = [1, 0, 0]  # Error color (red)\n",
    "            image[x, y] = rgb\n",
    "    return (image * 255.0)"
   ]
  },
  {
   "cell_type": "code",
   "execution_count": 6,
   "metadata": {},
   "outputs": [],
   "source": [
    "def gaussian_kernel_2D(size:int,sigma)->np.array:\n",
    "    if(size % 2 ==0):\n",
    "        raise(\"Enter odd value\")\n",
    "    x, y = np.meshgrid(np.arange(-(size//2), (size//2) + 1), np.arange(-(size//2), (size//2) + 1))\n",
    "    kernel = np.exp( -0.5* (np.square(x) + np.square(y))/(np.square(sigma)))\n",
    "    gaussian_kernel = kernel/np.sum(kernel)\n",
    "    return gaussian_kernel\n",
    "\n",
    "    \n",
    "def bilater_filter(image1:np.array,sigma_s,sigma_r):\n",
    "    size = 2*sigma_s +1\n",
    "    gauss_spatial = gaussian_kernel_2D(size=size,sigma=sigma_s)\n",
    "    padding_size = size//2\n",
    "    padded_image = np.pad(image1,padding_size,mode='reflect')\n",
    "    image = np.zeros(image1.shape)\n",
    "    m,n = image.shape[0],image.shape[1]\n",
    "    for i in range(m):\n",
    "        for j in range(n):\n",
    "            f_q = padded_image[i:i+size,j:j+size]\n",
    "            fp_fq = padded_image[i + padding_size, j + padding_size] - padded_image[i:i+size,j:j+size]\n",
    "            gauss_range = np.exp(-0.5*np.square(fp_fq)/np.square(sigma_r))\n",
    "            weights = gauss_range * gauss_spatial\n",
    "            \n",
    "            image[i,j] =np.sum(f_q * weights /np.sum(weights))\n",
    "    return image \n",
    "\n"
   ]
  },
  {
   "cell_type": "code",
   "execution_count": 7,
   "metadata": {},
   "outputs": [],
   "source": [
    "hsi_image = rgb_to_hsi(image4)\n",
    "intensity = (hsi_image[:, :, 2] * 255)  # Convert Intensity to 8-bit\n",
    "filtered_intensity = bilater_filter(intensity,2,2)  # Apply bilateral filter\n",
    "hsi_image[:, :, 2] = filtered_intensity/255\n",
    "rgb_from_hsi = hsi_to_rgb_image(hsi_image)"
   ]
  },
  {
   "cell_type": "code",
   "execution_count": 8,
   "metadata": {},
   "outputs": [],
   "source": [
    "cv2.imshow('Q1(a) sep background & foreground', rgb_from_hsi.astype(np.uint8))\n",
    "cv2.waitKey(7500)\n",
    "cv2.destroyAllWindows()"
   ]
  },
  {
   "cell_type": "code",
   "execution_count": 9,
   "metadata": {},
   "outputs": [],
   "source": [
    "#Q4 C***********\n",
    "# Q4 C i\n",
    "hsi_img_1 = rgb_to_hsi(image=image4)\n",
    "I = hsi_img_1[:,:,2]*255\n",
    "I_reduced = bilater_filter(I,2,2)\n",
    "hsi_reduced = np.stack([hsi_img_1[:,:,0],hsi_img_1[:,:,1],I_reduced.astype(float)/255.0],axis=-1)\n"
   ]
  },
  {
   "cell_type": "code",
   "execution_count": 10,
   "metadata": {},
   "outputs": [],
   "source": [
    "I_reduced_rgb = hsi_to_rgb_image(hsi_reduced)"
   ]
  },
  {
   "cell_type": "code",
   "execution_count": 11,
   "metadata": {},
   "outputs": [
    {
     "data": {
      "text/plain": [
       "True"
      ]
     },
     "execution_count": 11,
     "metadata": {},
     "output_type": "execute_result"
    }
   ],
   "source": [
    "cv2.imwrite('output_images/Q4/Q4_c_Intensity_reduced.png', I_reduced_rgb)"
   ]
  },
  {
   "cell_type": "code",
   "execution_count": 13,
   "metadata": {},
   "outputs": [
    {
     "data": {
      "text/plain": [
       "True"
      ]
     },
     "execution_count": 13,
     "metadata": {},
     "output_type": "execute_result"
    }
   ],
   "source": [
    "# R reduced\n",
    "R_reduced = bilater_filter(image4[:,:,0],2,2)\n",
    "R_reduced_scale = (255*(R_reduced - np.min(R_reduced)) / (np.max(R_reduced) - np.min(R_reduced)))\n",
    "R_reduced_image = np.stack([R_reduced_scale,image4[:,:,1],image4[:,:,2]],axis=-1)\n",
    "cv2.imwrite('output_images/Q4/Q4_c_R_reduced.png', R_reduced_image.astype(np.uint8))"
   ]
  },
  {
   "cell_type": "code",
   "execution_count": 14,
   "metadata": {},
   "outputs": [
    {
     "data": {
      "text/plain": [
       "True"
      ]
     },
     "execution_count": 14,
     "metadata": {},
     "output_type": "execute_result"
    }
   ],
   "source": [
    "G_reduced = bilater_filter(image4[:,:,1],2,2)\n",
    "G_reduced_scale = (255*(G_reduced - np.min(G_reduced)) / (np.max(G_reduced) - np.min(G_reduced)))\n",
    "\n",
    "G_reduced_image = np.stack([image4[:,:,0],G_reduced_scale,image4[:,:,2]],axis=-1)\n",
    "cv2.imwrite('output_images/Q4/Q4_c_G_reduced.png', G_reduced_image.astype(np.uint8))"
   ]
  },
  {
   "cell_type": "code",
   "execution_count": 15,
   "metadata": {},
   "outputs": [
    {
     "data": {
      "text/plain": [
       "True"
      ]
     },
     "execution_count": 15,
     "metadata": {},
     "output_type": "execute_result"
    }
   ],
   "source": [
    "B_reduced = bilater_filter(image4[:,:,2],2,2)\n",
    "B_reduced_scale = (255*(B_reduced - np.min(B_reduced)) / (np.max(B_reduced) - np.min(B_reduced)))\n",
    "\n",
    "B_reduced_image = np.stack([image4[:,:,0],image4[:,:,1],B_reduced_scale],axis=-1)\n",
    "cv2.imwrite('output_images/Q4/Q4_c_B_reduced.png', B_reduced_image.astype(np.uint8))"
   ]
  },
  {
   "cell_type": "code",
   "execution_count": null,
   "metadata": {},
   "outputs": [],
   "source": []
  },
  {
   "cell_type": "code",
   "execution_count": 17,
   "metadata": {},
   "outputs": [],
   "source": [
    "#***********\n",
    "#************Q4 d************\n",
    "def gamma_correction(image:np.array,gamma:float):\n",
    "    image = image/255.0\n",
    "    gamma_corrected_image = image**gamma\n",
    "    gamma_corrected_image = 255*gamma_corrected_image\n",
    "\n",
    "    scaled_image = 255*((gamma_corrected_image - np.min(gamma_corrected_image))/(np.max(gamma_corrected_image) - np.min(gamma_corrected_image)))\n",
    "    return scaled_image.astype(np.uint8)\n",
    "\n",
    "\n"
   ]
  },
  {
   "cell_type": "code",
   "execution_count": 18,
   "metadata": {},
   "outputs": [
    {
     "data": {
      "text/plain": [
       "True"
      ]
     },
     "execution_count": 18,
     "metadata": {},
     "output_type": "execute_result"
    }
   ],
   "source": [
    "I_reduced_gamma = gamma_correction(I_reduced_rgb,(1/2.2))\n",
    "cv2.imwrite('output_images/Q4/Q4_c_I_reduced_gamma.png', I_reduced_gamma.astype(np.uint8))"
   ]
  },
  {
   "cell_type": "code",
   "execution_count": 19,
   "metadata": {},
   "outputs": [
    {
     "data": {
      "text/plain": [
       "True"
      ]
     },
     "execution_count": 19,
     "metadata": {},
     "output_type": "execute_result"
    }
   ],
   "source": [
    "R_reduced_gamma = gamma_correction(R_reduced_image,(1/2.2))\n",
    "cv2.imwrite('output_images/Q4/Q4_c_R_reduced_gamma.png', R_reduced_gamma.astype(np.uint8))"
   ]
  },
  {
   "cell_type": "code",
   "execution_count": 20,
   "metadata": {},
   "outputs": [
    {
     "data": {
      "text/plain": [
       "True"
      ]
     },
     "execution_count": 20,
     "metadata": {},
     "output_type": "execute_result"
    }
   ],
   "source": [
    "G_reduced_gamma = gamma_correction(G_reduced_image,(1/2.2))\n",
    "cv2.imwrite('output_images/Q4/Q4_c_G_reduced_gamma.png', G_reduced_gamma.astype(np.uint8))"
   ]
  },
  {
   "cell_type": "code",
   "execution_count": 21,
   "metadata": {},
   "outputs": [
    {
     "data": {
      "text/plain": [
       "True"
      ]
     },
     "execution_count": 21,
     "metadata": {},
     "output_type": "execute_result"
    }
   ],
   "source": [
    "B_reduced_gamma = gamma_correction(B_reduced_image,(1/2.2))\n",
    "cv2.imwrite('output_images/Q4/Q4_c_B_reduced_gamma.png', B_reduced_gamma.astype(np.uint8))"
   ]
  }
 ],
 "metadata": {
  "kernelspec": {
   "display_name": "Python 3",
   "language": "python",
   "name": "python3"
  },
  "language_info": {
   "codemirror_mode": {
    "name": "ipython",
    "version": 3
   },
   "file_extension": ".py",
   "mimetype": "text/x-python",
   "name": "python",
   "nbconvert_exporter": "python",
   "pygments_lexer": "ipython3",
   "version": "3.10.12"
  }
 },
 "nbformat": 4,
 "nbformat_minor": 2
}
