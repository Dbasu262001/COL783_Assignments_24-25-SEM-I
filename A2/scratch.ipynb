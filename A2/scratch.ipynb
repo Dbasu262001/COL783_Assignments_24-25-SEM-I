{
 "cells": [
  {
   "cell_type": "code",
   "execution_count": 1,
   "metadata": {},
   "outputs": [],
   "source": [
    "import cv2\n",
    "import numpy as np\n",
    "import pandas as pd"
   ]
  },
  {
   "cell_type": "code",
   "execution_count": 2,
   "metadata": {},
   "outputs": [
    {
     "name": "stdout",
     "output_type": "stream",
     "text": [
      "Original Image:\n",
      "[[  0.   0.   1. 102. 102.]\n",
      " [  0.   0.   2. 104. 104.]\n",
      " [  0.   0.   3. 106. 106.]\n",
      " [  0.   0.   4. 108. 108.]]\n"
     ]
    }
   ],
   "source": [
    "# Define the image as a 2D NumPy array\n",
    "image = np.array([\n",
    "    [0,   0,   1, 102, 102],\n",
    "    [0,   0,   2, 104, 104],\n",
    "    [0,   0,   3, 106, 106],\n",
    "    [0,   0,   4, 108, 108]\n",
    "], dtype=float)\n",
    "\n",
    "print(\"Original Image:\")\n",
    "print(image)\n"
   ]
  },
  {
   "cell_type": "code",
   "execution_count": 5,
   "metadata": {},
   "outputs": [
    {
     "name": "stdout",
     "output_type": "stream",
     "text": [
      "\n",
      "Sobel-X Kernel:\n",
      "[[-1.  0.  1.]\n",
      " [-2.  0.  2.]\n",
      " [-1.  0.  1.]]\n",
      "\n",
      "Sobel-Y Kernel:\n",
      "[[ 1.  2.  1.]\n",
      " [ 0.  0.  0.]\n",
      " [-1. -2. -1.]]\n"
     ]
    }
   ],
   "source": [
    "# Define Sobel-X and Sobel-Y kernels\n",
    "sobel_x = np.array([\n",
    "    [-1, 0, 1],\n",
    "    [-2, 0, 2],\n",
    "    [-1, 0, 1]\n",
    "], dtype=float)\n",
    "\n",
    "sobel_y = np.array([\n",
    "    [1,  2,  1],\n",
    "    [0,  0,  0],\n",
    "    [-1, -2, -1]\n",
    "], dtype=float)\n",
    "\n",
    "print(\"\\nSobel-X Kernel:\")\n",
    "print(sobel_x)\n",
    "\n",
    "print(\"\\nSobel-Y Kernel:\")\n",
    "print(sobel_y)\n",
    "import numpy as np\n",
    "from scipy import ndimage\n",
    "import matplotlib.pyplot as plt\n"
   ]
  },
  {
   "cell_type": "code",
   "execution_count": 6,
   "metadata": {},
   "outputs": [
    {
     "name": "stdout",
     "output_type": "stream",
     "text": [
      "\n",
      "Gradient in X direction (Gx):\n",
      "[[   0.   -5. -410. -405.    0.]\n",
      " [   0.   -8. -416. -408.    0.]\n",
      " [   0.  -12. -424. -412.    0.]\n",
      " [   0.  -15. -430. -415.    0.]]\n",
      "\n",
      "Gradient in Y direction (Gy):\n",
      "[[ 0.  1.  4.  7.  8.]\n",
      " [ 0.  2.  8. 14. 16.]\n",
      " [ 0.  2.  8. 14. 16.]\n",
      " [ 0.  1.  4.  7.  8.]]\n"
     ]
    }
   ],
   "source": [
    "# Apply Sobel-X and Sobel-Y kernels to the image\n",
    "Gx = ndimage.convolve(image, sobel_x)\n",
    "Gy = ndimage.convolve(image, sobel_y)\n",
    "\n",
    "print(\"\\nGradient in X direction (Gx):\")\n",
    "print(Gx)\n",
    "\n",
    "print(\"\\nGradient in Y direction (Gy):\")\n",
    "print(Gy)\n"
   ]
  },
  {
   "cell_type": "code",
   "execution_count": 8,
   "metadata": {},
   "outputs": [
    {
     "data": {
      "text/plain": [
       "array([[  0.,   6., 414., 412.,   8.],\n",
       "       [  0.,  10., 424., 422.,  16.],\n",
       "       [  0.,  14., 432., 426.,  16.],\n",
       "       [  0.,  16., 434., 422.,   8.]])"
      ]
     },
     "execution_count": 8,
     "metadata": {},
     "output_type": "execute_result"
    }
   ],
   "source": [
    "gradient_magnitude_approx = np.abs(Gx) + np.abs(Gy)\n",
    "gradient_magnitude_approx"
   ]
  }
 ],
 "metadata": {
  "kernelspec": {
   "display_name": "Python 3",
   "language": "python",
   "name": "python3"
  },
  "language_info": {
   "codemirror_mode": {
    "name": "ipython",
    "version": 3
   },
   "file_extension": ".py",
   "mimetype": "text/x-python",
   "name": "python",
   "nbconvert_exporter": "python",
   "pygments_lexer": "ipython3",
   "version": "3.10.12"
  }
 },
 "nbformat": 4,
 "nbformat_minor": 2
}
